{
 "cells": [
  {
   "cell_type": "markdown",
   "id": "be88b5c6",
   "metadata": {
    "slideshow": {
     "slide_type": "slide"
    }
   },
   "source": [
    "# Title - Introduction to HTML:\n",
    "**Name - Ajiboye Temitayo\n",
    "**Date - 11/08/2023"
   ]
  },
  {
   "cell_type": "markdown",
   "id": "513943ce",
   "metadata": {
    "slideshow": {
     "slide_type": "slide"
    }
   },
   "source": [
    "**Introduction\n",
    "\n",
    "Hello everyone.i'm honored to have the opportunity to share my thoughts with you. And i will be talking about the basics of html.\n",
    "and i hope you will find this useful and informative."
   ]
  },
  {
   "cell_type": "markdown",
   "id": "9b0355ee",
   "metadata": {
    "slideshow": {
     "slide_type": "slide"
    }
   },
   "source": [
    "**WHAT IS HTML?\n",
    "\n",
    "HTML, or HyperText Markup Language, is the standard language used to create web pages. It's a set of tags that tell the browser how to display text, images, and other elements on a web page. HTML is like a recipe that tells the browser how to bake a cake! Without HTML, the internet as we know it wouldn't exist. It's the foundation of every website you visit."
   ]
  },
  {
   "cell_type": "markdown",
   "id": "6c9b928a",
   "metadata": {
    "slideshow": {
     "slide_type": "slide"
    }
   },
   "source": [
    "**HTML Structure\n",
    "\n",
    "<!DOCTYPE html> for document type, <html> for the main container, <head> for metadata, and <body> for visible content.\n",
    "<!DOCTYPE html>\n",
    "<html>\n",
    "<body>\n",
    "\n",
    "<h1>My First Heading</h1>\n",
    "\n",
    "<p>My first paragraph.</p>\n",
    "\n",
    "</body>\n",
    "</html>"
   ]
  },
  {
   "cell_type": "markdown",
   "id": "1420b302",
   "metadata": {
    "slideshow": {
     "slide_type": "slide"
    }
   },
   "source": [
    "**DOCTYPE HTML\n",
    "\n",
    "The <!DOCTYPE html> declaration is the first line of an HTML document and is used to define the version of HTML being used. It ensures proper rendering, compatibility, and adherence to web standards. By using this declaration, you're signaling to browsers that your content is written in HTML and should be rendered accordingly."
   ]
  },
  {
   "cell_type": "markdown",
   "id": "5845b48f",
   "metadata": {
    "slideshow": {
     "slide_type": "slide"
    }
   },
   "source": [
    "<HTML>\n",
    "    \n",
    "   The <html> element defines the beginning and end of the HTML document's structure. It tells the web browser that the content within it is written in HTML and should be treated as such."
   ]
  },
  {
   "cell_type": "markdown",
   "id": "b6652233",
   "metadata": {
    "slideshow": {
     "slide_type": "slide"
    }
   },
   "source": [
    "<HEAD>\n",
    "    \n",
    "     The <head> element serves as a container for metadata and other non-visible elements that provide essential information about the document. This metadata includes details about the document's title, character encoding, links to external resources, and more."
   ]
  },
  {
   "cell_type": "markdown",
   "id": "4865e0a9",
   "metadata": {
    "slideshow": {
     "slide_type": "slide"
    }
   },
   "source": [
    "<P>\n",
    " the <p> element in HTML is used to define and structure paragraphs of text on a web page. By enclosing related sentences within <p> tags, you create organized and readable content, enhancing both user experience and accessibility."
   ]
  },
  {
   "cell_type": "markdown",
   "id": "2872286f",
   "metadata": {
    "slideshow": {
     "slide_type": "slide"
    }
   },
   "source": [
    "<BODY>\n",
    "    The <body> element is a fundamental HTML tag that represents the main content area of a web page. It contains the visible content that users see when they visit a webpage."
   ]
  },
  {
   "cell_type": "markdown",
   "id": "afc7b8d1",
   "metadata": {
    "slideshow": {
     "slide_type": "slide"
    }
   },
   "source": [
    "**CONCLUSION.\n",
    "\n",
    "In conclusion, HTML serves as the backbone of web development, allowing us to structure and present content on the web. As you continue your journey, remember that understanding HTML is the key to creating well-structured and engaging websites."
   ]
  },
  {
   "attachments": {},
   "cell_type": "markdown",
   "id": "a7f1d5b8",
   "metadata": {
    "slideshow": {
     "slide_type": "slide"
    }
   },
   "source": [
    "#           THANK YOU FOR  LISTENING    \n"
   ]
  }
 ],
 "metadata": {
  "celltoolbar": "Slideshow",
  "kernelspec": {
   "display_name": "presentations",
   "language": "python",
   "name": "presentations"
  },
  "language_info": {
   "codemirror_mode": {
    "name": "ipython",
    "version": 3
   },
   "file_extension": ".py",
   "mimetype": "text/x-python",
   "name": "python",
   "nbconvert_exporter": "python",
   "pygments_lexer": "ipython3",
   "version": "3.11.4"
  }
 },
 "nbformat": 4,
 "nbformat_minor": 5
}
